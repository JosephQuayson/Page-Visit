{
 "cells": [
  {
   "cell_type": "code",
   "execution_count": null,
   "metadata": {},
   "outputs": [],
   "source": [
    "import codecademylib\n",
    "import pandas as pd\n",
    "\n"
   ]
  },
  {
   "cell_type": "code",
   "execution_count": null,
   "metadata": {},
   "outputs": [],
   "source": [
    "visits = pd.read_csv('visits.csv',parse_dates=[1])\n",
    "cart = pd.read_csv('cart.csv',parse_dates=[1])\n",
    "checkout = pd.read_csv('checkout.csv',parse_dates=[1])\n",
    "purchase = pd.read_csv('purchase.csv',parse_dates=[1])\n",
    "\n",
    "#print(visits.head())\n",
    "#print(cart.head())\n",
    "#print(checkout.head())\n",
    "#print(purchase.head())\n",
    "\n",
    "visit_cart=pd.merge(visits,cart,how='left')\n",
    "\n",
    "visit_cart_rows=len(visit_cart)\n",
    "\n",
    "null_cart_times=len(visit_cart[visit_cart.cart_time.isnull()])\n",
    "#print(null_cart_times)\n",
    "\n",
    "print(float(null_cart_times)/visit_cart_rows)\n",
    "\n",
    "cart_checkout = pd.merge(cart, checkout,how='left') \n",
    "#print(cart_checkout)\n",
    "\n",
    "cart_checkout_rows=len(cart_checkout)\n",
    "null_checkout_times=len(cart_checkout[cart_checkout.checkout_time.isnull()])\n",
    "\n",
    "print(float(null_checkout_times)/cart_checkout_rows)\n",
    "\n",
    "checkout_purchase=pd.merge(checkout,purchase,how='left')\n",
    "checkout_purchase_rows=len(checkout_purchase)\n",
    "null_purchase_times=len(checkout_purchase[checkout_purchase.purchase_time.isnull()])\n",
    "\n",
    "print(float(null_purchase_times)/checkout_purchase_rows)\n",
    "\n",
    "all_data=visits.merge(cart,how='left').merge(checkout,how='left').merge(checkout,how='left').merge(purchase,how='left')\n",
    "\n",
    "\n",
    "all_data['time_to_purchase'] = all_data.purchase_time - all_data.visit_time\n",
    "print(all_data.head())\n",
    "\n",
    "print(all_data.time_to_purchase)\n",
    "\n",
    "print(all_data.time_to_purchase.mean())"
   ]
  }
 ],
 "metadata": {
  "kernelspec": {
   "display_name": "Python 3",
   "language": "python",
   "name": "python3"
  },
  "language_info": {
   "codemirror_mode": {
    "name": "ipython",
    "version": 3
   },
   "file_extension": ".py",
   "mimetype": "text/x-python",
   "name": "python",
   "nbconvert_exporter": "python",
   "pygments_lexer": "ipython3",
   "version": "3.7.6"
  }
 },
 "nbformat": 4,
 "nbformat_minor": 4
}
